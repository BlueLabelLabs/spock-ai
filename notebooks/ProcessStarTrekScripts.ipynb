{
 "cells": [
  {
   "cell_type": "code",
   "execution_count": 1,
   "metadata": {},
   "outputs": [],
   "source": [
    "import pandas as pd\n",
    "import re"
   ]
  },
  {
   "cell_type": "code",
   "execution_count": 2,
   "metadata": {},
   "outputs": [],
   "source": [
    "file_path = '../datasets/_scripts_TOS.csv'\n",
    "df = pd.read_csv(file_path)\n",
    "\n",
    "output_filename = '../datasets/_scripts_TOS_cleaned.csv'"
   ]
  },
  {
   "cell_type": "code",
   "execution_count": 3,
   "metadata": {},
   "outputs": [],
   "source": [
    "#Pre-processing logic to correct type-o's in the original screenplay\n",
    "# Function to correct the character name format\n",
    "def correct_character_names(script):\n",
    "    # This regex matches \"<CHARACTER NAME>;\" and replaces it with \"<CHARACTER NAME>:\"\n",
    "    corrected_script = re.sub(r'\\b([A-Z ]+);', r'\\1:', script)\n",
    "    return corrected_script\n",
    "\n",
    "# Apply the correction function to the 'script' column\n",
    "df['script'] = df['script'].apply(correct_character_names)"
   ]
  },
  {
   "cell_type": "code",
   "execution_count": 4,
   "metadata": {},
   "outputs": [],
   "source": [
    "\n",
    "#we need to look at the column with the heading 'script'\n",
    "#in this column we need to extract all lines of dialogue spoken by Spock, which would be donated by 'SPOCK:'\n",
    "#we will then save this data to a new csv file\n",
    "INDEX_OF_SCRIPT = 5\n",
    "spock_lines_regex =[]\n",
    "\n",
    "# Define a regex pattern to match Spock's lines, followed by any character until the next line spoken by someone else\n",
    "# This attempts to capture dialogues that start with \"SPOCK:\" and end before another character starts speaking\n",
    "\n",
    "#spock_pattern = r\"SPOCK: (.+?)(?=\\s+[A-Z]+(?:\\s+\\[.+\\])?:|\\s*$)\"\n",
    "spock_pattern = r\"SPOCK: (.+?)(?=\\s+[A-Z0-9]+(?:\\s+\\[.+\\])?:|\\s*$)\"\n",
    "\n",
    "for i,script in enumerate(df['script']):\n",
    "    if pd.notna(script):\n",
    "        # Find all occurrences of Spock's dialogues using the regex pattern\n",
    "        spock_dialogues = re.findall(spock_pattern,script)\n",
    "        for dialogue in spock_dialogues:\n",
    "            # Clean up the dialogue by removing the \"SPOCK:\" prefix\n",
    "            clean_dialogue = dialogue.replace(\"SPOCK:\", \"\").strip()\n",
    "\n",
    "            #Clean up and remove any non-verbal cues that are wrapped in [] or ()\n",
    "            clean_dialogue = re.sub(r'\\[.*?\\]|\\(.*?\\)', '', clean_dialogue)\n",
    "            if clean_dialogue:\n",
    "                new_row = {\n",
    "                    'title': df['title'][i],\n",
    "                    'original_airdate': df['original_airdate'][i],\n",
    "                    'production_number': df['production_number'][i],\n",
    "                    'dialogue': clean_dialogue.strip()\n",
    "                }\n",
    "                spock_lines_regex.append(new_row)\n",
    "\n",
    "            \n"
   ]
  },
  {
   "cell_type": "code",
   "execution_count": 5,
   "metadata": {},
   "outputs": [],
   "source": [
    "#Output the spock_lines_regex to a new csv file\n",
    "# Create a new DataFrame from the list\n",
    "spock_dialogue_df = pd.DataFrame(spock_lines_regex)\n",
    "\n",
    "spock_dialogue_df.to_csv(output_filename, index=False)"
   ]
  }
 ],
 "metadata": {
  "kernelspec": {
   "display_name": "HuggingFace",
   "language": "python",
   "name": "python3"
  },
  "language_info": {
   "codemirror_mode": {
    "name": "ipython",
    "version": 3
   },
   "file_extension": ".py",
   "mimetype": "text/x-python",
   "name": "python",
   "nbconvert_exporter": "python",
   "pygments_lexer": "ipython3",
   "version": "3.10.13 (main, Sep 11 2023, 13:44:35) [GCC 11.2.0]"
  },
  "orig_nbformat": 4,
  "vscode": {
   "interpreter": {
    "hash": "36b514b738acff4061330311a03dff86b1232f3a413278e3b727ffbc7c44120f"
   }
  }
 },
 "nbformat": 4,
 "nbformat_minor": 2
}
