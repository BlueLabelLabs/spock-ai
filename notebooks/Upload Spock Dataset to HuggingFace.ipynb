{
 "cells": [
  {
   "cell_type": "code",
   "execution_count": 1,
   "metadata": {},
   "outputs": [],
   "source": [
    "from datasets import Dataset, DatasetDict, load_dataset"
   ]
  },
  {
   "attachments": {},
   "cell_type": "markdown",
   "metadata": {},
   "source": [
    "## Parameters"
   ]
  },
  {
   "cell_type": "code",
   "execution_count": 2,
   "metadata": {},
   "outputs": [],
   "source": [
    "dataset_name = \"spock\"\n",
    "huggingface_username = \"omgbobbyg\"\n",
    "huggingface_reponame = f\"{huggingface_username}/{dataset_name}\" "
   ]
  },
  {
   "attachments": {},
   "cell_type": "markdown",
   "metadata": {},
   "source": [
    "## Load DataSet and Upload"
   ]
  },
  {
   "cell_type": "code",
   "execution_count": 3,
   "metadata": {},
   "outputs": [
    {
     "name": "stdout",
     "output_type": "stream",
     "text": [
      "DatasetDict({\n",
      "    train: Dataset({\n",
      "        features: ['title', 'original_airdate', 'production_number', 'dialogue'],\n",
      "        num_rows: 3476\n",
      "    })\n",
      "    validation: Dataset({\n",
      "        features: ['title', 'original_airdate', 'production_number', 'dialogue'],\n",
      "        num_rows: 869\n",
      "    })\n",
      "})\n"
     ]
    },
    {
     "data": {
      "application/vnd.jupyter.widget-view+json": {
       "model_id": "7c858901770a48f9b432fef2a59b45a5",
       "version_major": 2,
       "version_minor": 0
      },
      "text/plain": [
       "Pushing dataset shards to the dataset hub:   0%|          | 0/1 [00:00<?, ?it/s]"
      ]
     },
     "metadata": {},
     "output_type": "display_data"
    },
    {
     "data": {
      "application/vnd.jupyter.widget-view+json": {
       "model_id": "0e367025de5348ee940785bfa8d22380",
       "version_major": 2,
       "version_minor": 0
      },
      "text/plain": [
       "Creating parquet from Arrow format:   0%|          | 0/4 [00:00<?, ?ba/s]"
      ]
     },
     "metadata": {},
     "output_type": "display_data"
    },
    {
     "data": {
      "application/vnd.jupyter.widget-view+json": {
       "model_id": "e7b8b52734bc43a2a87d5dce4ccb1206",
       "version_major": 2,
       "version_minor": 0
      },
      "text/plain": [
       "Pushing dataset shards to the dataset hub:   0%|          | 0/1 [00:00<?, ?it/s]"
      ]
     },
     "metadata": {},
     "output_type": "display_data"
    },
    {
     "data": {
      "application/vnd.jupyter.widget-view+json": {
       "model_id": "369e699c1a1b4e74a12d36b908867d0c",
       "version_major": 2,
       "version_minor": 0
      },
      "text/plain": [
       "Creating parquet from Arrow format:   0%|          | 0/1 [00:00<?, ?ba/s]"
      ]
     },
     "metadata": {},
     "output_type": "display_data"
    }
   ],
   "source": [
    "spock_dataset  = load_dataset(\"csv\", data_files=\"/home/bobby/projects/bll-ai-toolbox-model-1/datasets/_scripts_TOS_cleaned.csv\")\n",
    "#drop all the columns except dialogue\n",
    "spock_dataset = spock_dataset.map(lambda x: {\"dialogue\": x[\"dialogue\"]})\n",
    "#split the dataset into a training and validation set\n",
    "train_dataset = spock_dataset[\"train\"]\n",
    "dataset_split = train_dataset.train_test_split(test_size=0.2,seed=22)\n",
    "#Rename the default 'test' split to 'validation'\n",
    "dataset_split['validation'] = dataset_split.pop('test')\n",
    "print(dataset_split)\n",
    "\n",
    "\n",
    "#save the dataset to HuggingFace\n",
    "dataset_split.push_to_hub(huggingface_reponame)\n"
   ]
  }
 ],
 "metadata": {
  "kernelspec": {
   "display_name": "HuggingFace",
   "language": "python",
   "name": "python3"
  },
  "language_info": {
   "codemirror_mode": {
    "name": "ipython",
    "version": 3
   },
   "file_extension": ".py",
   "mimetype": "text/x-python",
   "name": "python",
   "nbconvert_exporter": "python",
   "pygments_lexer": "ipython3",
   "version": "3.10.13 (main, Sep 11 2023, 13:44:35) [GCC 11.2.0]"
  },
  "orig_nbformat": 4,
  "vscode": {
   "interpreter": {
    "hash": "36b514b738acff4061330311a03dff86b1232f3a413278e3b727ffbc7c44120f"
   }
  }
 },
 "nbformat": 4,
 "nbformat_minor": 2
}
